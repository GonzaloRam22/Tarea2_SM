{
 "cells": [
  {
   "cell_type": "markdown",
   "metadata": {},
   "source": [
    "# Resumen"
   ]
  },
  {
   "cell_type": "markdown",
   "metadata": {},
   "source": [
    "# 5 REASONS YOU SHOULD LEARN PYTHON NOW\n",
    "\n",
    "You may have heard that Python is gaining in popularity, but did you know it’s now the most popular introductory teaching language in U.S. universities? And it’s the fourth most popular language according to an IEEE survey, behind old classics Java, C, and C++?  So in celebration of our two new Python courses Try Python and Flying Through Python.\n",
    "\n",
    "## Is Python Useful?\n",
    "\n",
    "Python is easy to use, powerful, and versatile, making it a great choice for beginners and experts alike. Python’s readability makes it a great first programming language.\n",
    "But don’t think that because Python is easy to use it’s a wimpy language. \n",
    "\n",
    "Python is incredibly powerful — there’s a reason companies like Google, Dropbox, Spotify, and Netflix use it. The Dropbox desktop client is written entirely in Python, which speaks to its cross-platform compatibility. Dropbox has about 400 million users and considering it isn’t bundled with any operating system distribution.\n",
    "\n",
    "+ Like Google, Spotify and Netflix use a mix of languages. Spotify uses Java heavily, but uses Python for things like their Web API and their Interactive API console, which lets developers explore endpoints with an easy-to-use interface.\n",
    "\n",
    "+ Netflix uses a mix of Java, Scala, and Python, and gives developers autonomy when choosing which language fits the problem best.\n",
    "\n",
    "If you take a look at these companies, you can see they benefit from Python for its ease of use and because it’s great for rapid prototyping and iteration. Many great developers contribute daily to the Python community by creating Python libraries. These libraries can help you get started so that you don’t have to write code to reinvent the wheel. \n",
    "\n",
    "There are lots of great reasons to learn Python, and hopefully a few of the examples and resources I’ve shown today have helped you see how you could be using it too.\n",
    "\n",
    "Tomado de: <https://www.pluralsight.com/blog/software-development/why-python>\n",
    "\n",
    "\n"
   ]
  },
  {
   "cell_type": "markdown",
   "metadata": {},
   "source": [
    "# Python is becoming the world’s most popular coding language\n",
    "\n",
    "![CompetenciaPython](https://www.economist.com/img/b/1280/1401/90/sites/default/files/20180728_WOC883.png)\n",
    "\n",
    "“I CERTAINLY didn’t set out to create a language that was intended for mass consumption,” says [**Guido van Rossum**](https://www.ecured.cu/Guido_van_Rossum)a Dutch computer scientist who devised Python,  a programming language, in 1989.\n",
    "\n",
    "In the past 12 months Americans have searched for Python on Google more often than for Kim Kardashian, a reality-TV star. The number of queries has trebled since 2010, while those for other major programming languages have been flat or declining.\n",
    "\n",
    "This versatility means that the Central Intelligence Agency has used it for hacking, Google for crawling webpages, Pixar for producing movies and Spotify for recommending songs.\n",
    "\n",
    "Python will not replace C and C++, which are “lower-level options” that give the user more control over what is going on in a computer’s processor. Nor will it kill off Java, which is popular for building complicated applications, or JavaScript, which powers most web pages.\n",
    "\n",
    "Moreover, Pythonistas who take their language’s supremacy for granted should beware. Fortran, Lisp and Ada were all highly popular in the 1980s and 1990s, according to the TIOBE index, which tracks coding practices among professional developers. \n",
    "\n",
    "Tomado de : <https://www.economist.com/graphic-detail/2018/07/26/python-is-becoming-the-worlds-most-popular-coding-language>\n"
   ]
  }
 ],
 "metadata": {
  "kernelspec": {
   "display_name": "Python 3",
   "language": "python",
   "name": "python3"
  },
  "language_info": {
   "codemirror_mode": {
    "name": "ipython",
    "version": 3
   },
   "file_extension": ".py",
   "mimetype": "text/x-python",
   "name": "python",
   "nbconvert_exporter": "python",
   "pygments_lexer": "ipython3",
   "version": "3.8.3"
  }
 },
 "nbformat": 4,
 "nbformat_minor": 4
}
