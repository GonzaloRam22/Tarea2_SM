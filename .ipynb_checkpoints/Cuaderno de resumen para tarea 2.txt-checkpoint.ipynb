{
 "cells": [
  {
   "cell_type": "markdown",
   "metadata": {},
   "source": [
    "# Resumen"
   ]
  },
  {
   "cell_type": "markdown",
   "metadata": {},
   "source": [
    "# 5 REASONS YOU SHOULD LEARN PYTHON NOW\n",
    "\n",
    "You may have heard that Python is gaining in popularity, but did you know it’s now the most popular introductory teaching language in U.S. universities? And it’s the fourth most popular language according to an IEEE survey, behind old classics Java, C, and C++?  So in celebration of our two new Python courses Try Python and Flying Through Python.\n",
    "\n",
    "## Is Python Useful?\n",
    "\n",
    "Python is easy to use, powerful, and versatile, making it a great choice for beginners and experts alike. Python’s readability makes it a great first programming language.\n",
    "But don’t think that because Python is easy to use it’s a wimpy language. \n",
    "\n",
    "Python is incredibly powerful — there’s a reason companies like Google, Dropbox, Spotify, and Netflix use it. The Dropbox desktop client is written entirely in Python, which speaks to its cross-platform compatibility. Dropbox has about 400 million users and considering it isn’t bundled with any operating system distribution.\n",
    "\n",
    "+ Like Google, Spotify and Netflix use a mix of languages. Spotify uses Java heavily, but uses Python for things like their Web API and their Interactive API console, which lets developers explore endpoints with an easy-to-use interface.\n",
    "\n",
    "+ Netflix uses a mix of Java, Scala, and Python, and gives developers autonomy when choosing which language fits the problem best.\n",
    "\n",
    "If you take a look at these companies, you can see they benefit from Python for its ease of use and because it’s great for rapid prototyping and iteration. Many great developers contribute daily to the Python community by creating Python libraries. These libraries can help you get started so that you don’t have to write code to reinvent the wheel. \n",
    "\n",
    "There are lots of great reasons to learn Python, and hopefully a few of the examples and resources I’ve shown today have helped you see how you could be using it too.\n",
    "\n",
    "Tomado de: <https://www.pluralsight.com/blog/software-development/why-python>\n",
    "\n",
    "\n"
   ]
  },
  {
   "cell_type": "markdown",
   "metadata": {},
   "source": []
  },
  {
   "cell_type": "code",
   "execution_count": null,
   "metadata": {},
   "outputs": [],
   "source": []
  }
 ],
 "metadata": {
  "kernelspec": {
   "display_name": "Python 3",
   "language": "python",
   "name": "python3"
  },
  "language_info": {
   "codemirror_mode": {
    "name": "ipython",
    "version": 3
   },
   "file_extension": ".py",
   "mimetype": "text/x-python",
   "name": "python",
   "nbconvert_exporter": "python",
   "pygments_lexer": "ipython3",
   "version": "3.8.3"
  }
 },
 "nbformat": 4,
 "nbformat_minor": 4
}
